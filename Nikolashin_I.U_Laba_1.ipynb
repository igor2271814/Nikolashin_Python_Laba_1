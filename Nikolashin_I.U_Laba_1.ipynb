{
 "cells": [
  {
   "cell_type": "markdown",
   "metadata": {},
   "source": [
    "# **Обзор данных**"
   ]
  },
  {
   "cell_type": "markdown",
   "metadata": {},
   "source": [
    "**Выполнение заданий 1 - 5**"
   ]
  },
  {
   "cell_type": "code",
   "execution_count": 6,
   "metadata": {},
   "outputs": [
    {
     "name": "stdout",
     "output_type": "stream",
     "text": [
      "First 10 row:\n",
      "                    Country              City  AQI Value  \\\n",
      "0        Russian Federation        Praskoveya         51   \n",
      "1                    Brazil  Presidente Dutra         41   \n",
      "2                     Italy   Priolo Gargallo         66   \n",
      "3                    Poland         Przasnysz         34   \n",
      "4                    France          Punaauia         22   \n",
      "5  United States of America       Punta Gorda         54   \n",
      "6                   Germany        Puttlingen         62   \n",
      "7                   Belgium             Puurs         64   \n",
      "8        Russian Federation        Pyatigorsk         54   \n",
      "9                     Egypt            Qalyub        142   \n",
      "\n",
      "                     AQI Category  CO AQI Value CO AQI Category  \\\n",
      "0                        Moderate             1            Good   \n",
      "1                            Good             1            Good   \n",
      "2                        Moderate             1            Good   \n",
      "3                            Good             1            Good   \n",
      "4                            Good             0            Good   \n",
      "5                        Moderate             1            Good   \n",
      "6                        Moderate             1            Good   \n",
      "7                        Moderate             1            Good   \n",
      "8                        Moderate             1            Good   \n",
      "9  Unhealthy for Sensitive Groups             3            Good   \n",
      "\n",
      "   Ozone AQI Value Ozone AQI Category  NO2 AQI Value NO2 AQI Category  \\\n",
      "0               36               Good              0             Good   \n",
      "1                5               Good              1             Good   \n",
      "2               39               Good              2             Good   \n",
      "3               34               Good              0             Good   \n",
      "4               22               Good              0             Good   \n",
      "5               14               Good             11             Good   \n",
      "6               35               Good              3             Good   \n",
      "7               29               Good              7             Good   \n",
      "8               41               Good              1             Good   \n",
      "9               89           Moderate              9             Good   \n",
      "\n",
      "   PM2.5 AQI Value              PM2.5 AQI Category  \n",
      "0               51                        Moderate  \n",
      "1               41                            Good  \n",
      "2               66                        Moderate  \n",
      "3               20                            Good  \n",
      "4                6                            Good  \n",
      "5               54                        Moderate  \n",
      "6               62                        Moderate  \n",
      "7               64                        Moderate  \n",
      "8               54                        Moderate  \n",
      "9              142  Unhealthy for Sensitive Groups  \n"
     ]
    }
   ],
   "source": [
    "import pandas as pd # Импорт библиотек. Задание 1\n",
    "import matplotlib.pyplot as plt # Импорт библиотек Задание 2\n",
    "import numpy as np # Импорт библиотек Задание 3\n",
    "\n",
    "data = pd.read_csv('Airpollution.csv') # Чтение данных. Задание 4\n",
    "result = data.head(10) # Запись первых 10-ти ячеек\n",
    "print (\"First 10 row:\")\n",
    "print (result) # Вывод данных. Задание 5"
   ]
  },
  {
   "cell_type": "markdown",
   "metadata": {},
   "source": [
    "**Выполнение заданий 6 - 9**"
   ]
  },
  {
   "cell_type": "code",
   "execution_count": 10,
   "metadata": {},
   "outputs": [
    {
     "name": "stdout",
     "output_type": "stream",
     "text": [
      "Base info:\n",
      "<class 'pandas.DataFrame'>\n",
      "RangeIndex: 23463 entries, 0 to 23462\n",
      "Data columns (total 12 columns):\n",
      " #   Column              Non-Null Count  Dtype \n",
      "---  ------              --------------  ----- \n",
      " 0   Country             23036 non-null  object\n",
      " 1   City                23462 non-null  object\n",
      " 2   AQI Value           23463 non-null  int64 \n",
      " 3   AQI Category        23463 non-null  object\n",
      " 4   CO AQI Value        23463 non-null  int64 \n",
      " 5   CO AQI Category     23463 non-null  object\n",
      " 6   Ozone AQI Value     23463 non-null  int64 \n",
      " 7   Ozone AQI Category  23463 non-null  object\n",
      " 8   NO2 AQI Value       23463 non-null  int64 \n",
      " 9   NO2 AQI Category    23463 non-null  object\n",
      " 10  PM2.5 AQI Value     23463 non-null  int64 \n",
      " 11  PM2.5 AQI Category  23463 non-null  object\n",
      "dtypes: int64(5), object(7)\n",
      "memory usage: 2.1+ MB\n",
      "Type info:\n",
      "Country               object\n",
      "City                  object\n",
      "AQI Value              int64\n",
      "AQI Category          object\n",
      "CO AQI Value           int64\n",
      "CO AQI Category       object\n",
      "Ozone AQI Value        int64\n",
      "Ozone AQI Category    object\n",
      "NO2 AQI Value          int64\n",
      "NO2 AQI Category      object\n",
      "PM2.5 AQI Value        int64\n",
      "PM2.5 AQI Category    object\n",
      "dtype: object\n",
      "Len info:\n",
      "(23463, 12)\n",
      "Colums info:\n",
      "['Country' 'City' 'AQI Value' 'AQI Category' 'CO AQI Value'\n",
      " 'CO AQI Category' 'Ozone AQI Value' 'Ozone AQI Category' 'NO2 AQI Value'\n",
      " 'NO2 AQI Category' 'PM2.5 AQI Value' 'PM2.5 AQI Category']\n"
     ]
    }
   ],
   "source": [
    "import pandas as pd # Импорт библиотек\n",
    "import matplotlib.pyplot as plt # Импорт библиотек\n",
    "import numpy as np # Импорт библиотек\n",
    "\n",
    "data = pd.read_csv('Airpollution.csv') # Чтение данных\n",
    "print (\"Base info:\")\n",
    "data.info() # Вывод информации по таблице. Задание 6\n",
    "print (\"Type info:\")\n",
    "print (data.dtypes) # Вывод информации о типе данных. Задание 7\n",
    "print (\"Len info:\")\n",
    "print (data.shape) # Вывод информации о кол-ве стор и колонок. Задание 8\n",
    "print (\"Colums info:\")\n",
    "print (data.columns.values) # Вывод названий колонок. Задание 9\n",
    "\n",
    "\n"
   ]
  },
  {
   "cell_type": "markdown",
   "metadata": {},
   "source": [
    "**Выполнение заданий 10 - 11**"
   ]
  },
  {
   "cell_type": "code",
   "execution_count": 22,
   "metadata": {},
   "outputs": [
    {
     "name": "stdout",
     "output_type": "stream",
     "text": [
      "Missing value count:\n",
      "Country               427\n",
      "City                    1\n",
      "AQI Value               0\n",
      "AQI Category            0\n",
      "CO AQI Value            0\n",
      "CO AQI Category         0\n",
      "Ozone AQI Value         0\n",
      "Ozone AQI Category      0\n",
      "NO2 AQI Value           0\n",
      "NO2 AQI Category        0\n",
      "PM2.5 AQI Value         0\n",
      "PM2.5 AQI Category      0\n",
      "dtype: int64\n",
      "Duplicated value count:\n",
      "0        False\n",
      "1        False\n",
      "2        False\n",
      "3        False\n",
      "4        False\n",
      "         ...  \n",
      "23458    False\n",
      "23459    False\n",
      "23460    False\n",
      "23461    False\n",
      "23462    False\n",
      "Length: 23463, dtype: bool\n",
      "After drop duplicates:\n",
      "0        False\n",
      "1        False\n",
      "2        False\n",
      "3        False\n",
      "4        False\n",
      "         ...  \n",
      "23458    False\n",
      "23459    False\n",
      "23460    False\n",
      "23461    False\n",
      "23462    False\n",
      "Length: 23463, dtype: bool\n"
     ]
    }
   ],
   "source": [
    "import pandas as pd # Импорт библиотек\n",
    "import matplotlib.pyplot as plt # Импорт библиотек\n",
    "import numpy as np # Импорт библиотек\n",
    "\n",
    "data = pd.read_csv('Airpollution.csv') # Чтение данных\n",
    "missing_value_count = data.isna().sum() # Запись пропущенных значений в каждом столбце. Задание 10\n",
    "\n",
    "print (\"Missing value count:\")\n",
    "print (missing_value_count)\n",
    "print (\"Duplicated value count:\")\n",
    "print (data.duplicated())\n",
    "new_data = data.drop_duplicates()\n",
    "\n",
    "print (\"After drop duplicates:\")\n",
    "print (new_data.duplicated())"
   ]
  },
  {
   "cell_type": "markdown",
   "metadata": {},
   "source": [
    "Какой тип данных доминирует в датасете? Есть ли пропущенные значения и если да, то в каких колонках?  \n",
    "**В датасете доминирует object. Это можно понять из вывода данных:**\n",
    "\n",
    "\n",
    "```python\n",
    "Data columns (total 12 columns):\n",
    " #   Column              Non-Null Count  Dtype \n",
    "---  ------              --------------  ----- \n",
    " 0   Country             23036 non-null  object\n",
    " 1   City                23462 non-null  object\n",
    " 2   AQI Value           23463 non-null  int64 \n",
    " 3   AQI Category        23463 non-null  object\n",
    " 4   CO AQI Value        23463 non-null  int64 \n",
    " 5   CO AQI Category     23463 non-null  object\n",
    " 6   Ozone AQI Value     23463 non-null  int64 \n",
    " 7   Ozone AQI Category  23463 non-null  object\n",
    " 8   NO2 AQI Value       23463 non-null  int64 \n",
    " 9   NO2 AQI Category    23463 non-null  object\n",
    " 10  PM2.5 AQI Value     23463 non-null  int64 \n",
    " 11  PM2.5 AQI Category  23463 non-null  object\n",
    "```\n",
    "\n",
    "**Пропущенные значения были:**  \n",
    "Country               427  \n",
    "City                    1"
   ]
  },
  {
   "cell_type": "markdown",
   "metadata": {},
   "source": [
    "# **Предобработка и визуализация данных**"
   ]
  },
  {
   "cell_type": "code",
   "execution_count": 24,
   "metadata": {},
   "outputs": [
    {
     "data": {
      "text/plain": [
       "<Axes: >"
      ]
     },
     "execution_count": 24,
     "metadata": {},
     "output_type": "execute_result"
    },
    {
     "data": {
      "image/png": "[encoded data removed]",
      "text/plain": [
       "<Figure size 640x480 with 1 Axes>"
      ]
     },
     "metadata": {},
     "output_type": "display_data"
    }
   ],
   "source": [
    "import pandas as pd # Импорт библиотек\n",
    "import matplotlib.pyplot as plt # Импорт библиотек\n",
    "import numpy as np # Импорт библиотек\n",
    "\n",
    "data = pd.read_csv('Airpollution.csv') # Чтение данных\n",
    "data.boxplot()"
   ]
  }
 ],
 "metadata": {
  "kernelspec": {
   "display_name": "Python 3",
   "language": "python",
   "name": "python3"
  },
  "language_info": {
   "codemirror_mode": {
    "name": "ipython",
    "version": 3
   },
   "file_extension": ".py",
   "mimetype": "text/x-python",
   "name": "python",
   "nbconvert_exporter": "python",
   "pygments_lexer": "ipython3",
   "version": "3.11.9"
  }
 },
 "nbformat": 4,
 "nbformat_minor": 2
}
